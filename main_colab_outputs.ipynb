{
 "nbformat": 4,
 "nbformat_minor": 0,
 "metadata": {
  "colab": {
   "name": "conv2.uc2018",
   "provenance": [],
   "collapsed_sections": []
  },
  "kernelspec": {
   "name": "python3",
   "display_name": "Python 3"
  },
  "accelerator": "GPU",
  "gpuClass": "standard"
 },
 "cells": [
  {
   "cell_type": "markdown",
   "source": [
    "<a href=\"https://colab.research.google.com/github/AlirezaKhodabakhsh/Genetic_EMG/blob/main/main.ipynb\" target=\"_parent\"><img src=\"https://colab.research.google.com/assets/colab-badge.svg\" alt=\"Open In Colab\"/></a>"
   ],
   "metadata": {
    "collapsed": false,
    "id": "rQukL4OMlUqc"
   }
  },
  {
   "cell_type": "markdown",
   "source": [
    "# Deep network optimization using a Genetic algorithm for recognizing hand gestures from EMG Signal\n",
    "- **Kasra Sehhat** [[Email](kasra.sehat@sharif.edu)] [[LinkedIn](linkedin.com/in/kasra-sehat)][[GitHub](https://github.com/kasrasehat)]\n",
    "- **Alireza Khodabakhsh** [[Email](alireza.khodabakhsh@ee.sharif.edu)][[LinkedIn](https://www.linkedin.com/in/alirezakhodabakhsh/)][[GitHub](https://github.com/AlirezaKhodabakhsh)]\n",
    "- **Arman Aghaee** [[Email](arman.aghaee@ryerson.ca)] [[LinkedIn](https://www.linkedin.com/in/armanaghaee/)][[GitHub](https://github.com/armanaghaee)]"
   ],
   "metadata": {
    "collapsed": false,
    "id": "Yg6pnzJ_lUqk"
   }
  },
  {
   "cell_type": "markdown",
   "source": [
    "# Libraries"
   ],
   "metadata": {
    "collapsed": false,
    "id": "g7I58jCflUqm"
   }
  },
  {
   "cell_type": "code",
   "metadata": {
    "id": "0Vl1aTCiJlvN",
    "outputId": "ed2a6aeb-16e0-43b8-d119-8cc66ac9cb4d",
    "colab": {
     "base_uri": "https://localhost:8080/"
    }
   },
   "source": [
    "#!pip install keras.optimizers\n",
    "import keras.optimizers\n",
    "a = keras.optimizers.adam_v2\n",
    "import tensorflow\n",
    "print(tensorflow.__version__)\n",
    "import csv\n",
    "import pandas as pd\n",
    "from keras.utils import np_utils\n",
    "from mlxtend.plotting import plot_confusion_matrix\n",
    "from sklearn.metrics import confusion_matrix\n",
    "from sklearn import metrics\n",
    "import pandas as pd\n",
    "import numpy as np\n",
    "import sklearn\n",
    "import random\n",
    "import matplotlib.pyplot as plt\n",
    "import requests\n",
    "import sys"
   ],
   "execution_count": 1,
   "outputs": [
    {
     "output_type": "stream",
     "name": "stdout",
     "text": [
      "2.8.2\n"
     ]
    }
   ]
  },
  {
   "cell_type": "markdown",
   "source": [
    "# Dataset"
   ],
   "metadata": {
    "collapsed": false,
    "id": "rYek7SLSlUqr"
   }
  },
  {
   "cell_type": "code",
   "execution_count": 2,
   "outputs": [
    {
     "output_type": "stream",
     "name": "stdout",
     "text": [
      "Downloading dualmyo_dataset.pkl\n",
      "[==================================================]"
     ]
    }
   ],
   "source": [
    "link = 'https://zenodo.org/record/1320922/files/dualmyo_dataset.pkl?download=1'\n",
    "file_name = \"dualmyo_dataset.pkl\"\n",
    "with open(file_name, \"wb\") as f:\n",
    "    print(\"Downloading %s\" % file_name)\n",
    "    response = requests.get(link, stream=True)\n",
    "    total_length = response.headers.get('content-length')\n",
    "\n",
    "    if total_length is None: # no content length header\n",
    "        f.write(response.content)\n",
    "    else:\n",
    "        dl = 0\n",
    "        total_length = int(total_length)\n",
    "        for data in response.iter_content(chunk_size=4096):\n",
    "            dl += len(data)\n",
    "            f.write(data)\n",
    "            done = int(50 * dl / total_length)\n",
    "            sys.stdout.write(\"\\r[%s%s]\" % ('=' * done, ' ' * (50-done)) )\n",
    "            sys.stdout.flush()"
   ],
   "metadata": {
    "pycharm": {
     "name": "#%%\n"
    },
    "id": "OvNW0e1dlUqt",
    "outputId": "d218a43c-acd8-4034-c0e4-963499ee249c",
    "colab": {
     "base_uri": "https://localhost:8080/"
    }
   }
  },
  {
   "cell_type": "code",
   "metadata": {
    "id": "LLORpFz-4n6T",
    "colab": {
     "base_uri": "https://localhost:8080/",
     "height": 192
    },
    "outputId": "07cd097e-c2c9-4136-f086-7f17d43eaaae"
   },
   "source": [
    "\"\"\"\n",
    "def mode_rows(a):\n",
    "    a = np.ascontiguousarray(a)\n",
    "    void_dt = np.dtype((np.void, a.dtype.itemsize * np.prod(a.shape[1:])))\n",
    "    _,ids, count = np.unique(a.view(void_dt).ravel(), \\\n",
    "                                return_index=1,return_counts=1)\n",
    "    largest_count_id = ids[count.argmax()]\n",
    "    most_frequent_row = a[largest_count_id]\n",
    "    return most_frequent_row\n",
    "\n",
    "a = pd.read_pickle(r'/content/drive/My Drive/dualmyo_dataset.pkl')\n",
    "signal_list =a[0]\n",
    "label_list =a[1]\n",
    "\n",
    "signal = np.array([0,0,0,0,0,0,0,0])\n",
    "k = 0\n",
    "coef = np.ones([400,1])\n",
    "target = np.array([0])\n",
    "\n",
    "for s in signal_list :\n",
    "    signal = np.vstack((signal,abs(s[:,2:10])))\n",
    "    signal = np.vstack((signal,abs(s[:,12:20])))\n",
    "    target  = np.vstack((target,label_list[k]*coef))\n",
    "    target  = np.vstack((target,label_list[k]*coef))\n",
    "    k = k + 1\n",
    "\n",
    "print(signal.shape)    \n",
    "print(target.shape)   \n",
    "\n",
    "data = np.concatenate((signal,target),axis=1) \n",
    "\n",
    "seq_len = 200\n",
    "stride = 200\n",
    "dataset=[]\n",
    "\n",
    "for i in range(0 , len(data)-seq_len , stride):\n",
    "    sample =  data[i:i+seq_len,:]\n",
    "    dataset.append(sample)\n",
    "    \n",
    "np.random.shuffle(dataset)        \n",
    "train, test = sklearn.model_selection.train_test_split(dataset , train_size =int( np.round(0.85*len(dataset))) , test_size = int(np.round(0.15*len(dataset))))\n",
    "\n",
    "\n",
    "x_train = np.zeros([len(train),seq_len,8,1])\n",
    "y_train = np.zeros([len(train),1])\n",
    "f=0\n",
    "for s  in train :\n",
    "    x_train[f,:,:,:] = s[:,0:8].reshape(-1,8,1)\n",
    "    y_train[f, 0] = mode_rows(s[seq_len-20:seq_len,8])\n",
    "    f = f+1\n",
    "\n",
    "x_tra = (x_train/128).astype('float32')\n",
    "y_tra = np_utils.to_categorical(y_train) \n",
    "\n",
    "\n",
    "\n",
    "x_test = np.zeros([len(test),seq_len,8,1])\n",
    "y_test = np.zeros([len(test),1])\n",
    "p=0\n",
    "for s  in test :\n",
    "    x_test[p,:,:,:] = s[:,0:8].reshape(-1,8,1)\n",
    "    y_test[p, 0] = mode_rows(s[seq_len-20:seq_len,8])\n",
    "    p = p+1\n",
    "\n",
    "x_tes = (x_test/128).astype('float32')\n",
    "\n",
    "y_tes = np_utils.to_categorical(y_test) \n",
    "\"\"\""
   ],
   "execution_count": 3,
   "outputs": [
    {
     "output_type": "execute_result",
     "data": {
      "text/plain": [
       "\"\\ndef mode_rows(a):\\n    a = np.ascontiguousarray(a)\\n    void_dt = np.dtype((np.void, a.dtype.itemsize * np.prod(a.shape[1:])))\\n    _,ids, count = np.unique(a.view(void_dt).ravel(),                                 return_index=1,return_counts=1)\\n    largest_count_id = ids[count.argmax()]\\n    most_frequent_row = a[largest_count_id]\\n    return most_frequent_row\\n\\na = pd.read_pickle(r'/content/drive/My Drive/dualmyo_dataset.pkl')\\nsignal_list =a[0]\\nlabel_list =a[1]\\n\\nsignal = np.array([0,0,0,0,0,0,0,0])\\nk = 0\\ncoef = np.ones([400,1])\\ntarget = np.array([0])\\n\\nfor s in signal_list :\\n    signal = np.vstack((signal,abs(s[:,2:10])))\\n    signal = np.vstack((signal,abs(s[:,12:20])))\\n    target  = np.vstack((target,label_list[k]*coef))\\n    target  = np.vstack((target,label_list[k]*coef))\\n    k = k + 1\\n\\nprint(signal.shape)    \\nprint(target.shape)   \\n\\ndata = np.concatenate((signal,target),axis=1) \\n\\nseq_len = 200\\nstride = 200\\ndataset=[]\\n\\nfor i in range(0 , len(data)-seq_len , stride):\\n    sample =  data[i:i+seq_len,:]\\n    dataset.append(sample)\\n    \\nnp.random.shuffle(dataset)        \\ntrain, test = sklearn.model_selection.train_test_split(dataset , train_size =int( np.round(0.85*len(dataset))) , test_size = int(np.round(0.15*len(dataset))))\\n\\n\\nx_train = np.zeros([len(train),seq_len,8,1])\\ny_train = np.zeros([len(train),1])\\nf=0\\nfor s  in train :\\n    x_train[f,:,:,:] = s[:,0:8].reshape(-1,8,1)\\n    y_train[f, 0] = mode_rows(s[seq_len-20:seq_len,8])\\n    f = f+1\\n\\nx_tra = (x_train/128).astype('float32')\\ny_tra = np_utils.to_categorical(y_train) \\n\\n\\n\\nx_test = np.zeros([len(test),seq_len,8,1])\\ny_test = np.zeros([len(test),1])\\np=0\\nfor s  in test :\\n    x_test[p,:,:,:] = s[:,0:8].reshape(-1,8,1)\\n    y_test[p, 0] = mode_rows(s[seq_len-20:seq_len,8])\\n    p = p+1\\n\\nx_tes = (x_test/128).astype('float32')\\n\\ny_tes = np_utils.to_categorical(y_test) \\n\""
      ],
      "application/vnd.google.colaboratory.intrinsic+json": {
       "type": "string"
      }
     },
     "metadata": {},
     "execution_count": 3
    }
   ]
  },
  {
   "cell_type": "markdown",
   "source": [
    "# Preprocessing"
   ],
   "metadata": {
    "collapsed": false,
    "id": "YRcI61oilUqz"
   }
  },
  {
   "cell_type": "code",
   "metadata": {
    "id": "NRp8dPNL8ShN",
    "outputId": "6f267d4f-4043-4fd2-ed3e-a1658d4bfc1d",
    "colab": {
     "base_uri": "https://localhost:8080/"
    }
   },
   "source": [
    "#Data preprocessing with 16 channels and N samples\n",
    "def mode_rows(a):\n",
    "    a = np.ascontiguousarray(a)\n",
    "    void_dt = np.dtype((np.void, a.dtype.itemsize * np.prod(a.shape[1:])))\n",
    "    _,ids, count = np.unique(a.view(void_dt).ravel(), \\\n",
    "                                return_index=1,return_counts=1)\n",
    "    largest_count_id = ids[count.argmax()]\n",
    "    most_frequent_row = a[largest_count_id]\n",
    "    return most_frequent_row\n",
    "\n",
    "    \n",
    "a = pd.read_pickle(r'/content/dualmyo_dataset.pkl')\n",
    "signal_list =a[0]\n",
    "label_list =a[1]\n",
    "\n",
    "signal = np.array([0,0,0,0,0,0,0,0,0,0,0,0,0,0,0,0])\n",
    "k = 0\n",
    "coef = np.ones([400,1])\n",
    "target = np.array([0])\n",
    "\n",
    "for s in signal_list :\n",
    "  signal1 = np.hstack([abs(s[:,2:10]),abs(s[:,12:20])])\n",
    "  signal = np.vstack((signal,signal1))\n",
    "  target = np.vstack((target,label_list[k]*coef)) \n",
    "  k = k + 1\n",
    "\n",
    "print(signal.shape)    \n",
    "print(target.shape)   \n",
    "\n",
    "data = np.concatenate((signal,target),axis=1) \n",
    "\n",
    "seq_len = 200 \n",
    "stride = 200\n",
    "dataset=[]\n",
    "\n",
    "for i in range(0 , len(data)-seq_len , stride):\n",
    "    sample =  data[i:i+seq_len,:]\n",
    "    dataset.append(sample)\n",
    "    \n",
    "np.random.shuffle(dataset)        \n",
    "train, test = sklearn.model_selection.train_test_split(dataset , train_size =int( np.round(0.85*len(dataset))) , test_size = int(np.round(0.15*len(dataset))), shuffle = False)\n",
    "\n",
    "\n",
    "x_train = np.zeros([len(train),seq_len,16,1])\n",
    "y_train = np.zeros([len(train),1])\n",
    "f=0\n",
    "for s  in train :\n",
    "    x_train[f,:,:,:] = s[:,0:16].reshape(-1,16,1)\n",
    "    y_train[f, 0] = mode_rows(s[seq_len-20:seq_len,16])\n",
    "    f = f+1\n",
    "\n",
    "x_tra = (x_train/128).astype('float32')\n",
    "y_tra = np_utils.to_categorical(y_train) \n",
    "\n",
    "\n",
    "\n",
    "x_test = np.zeros([len(test),seq_len,16,1])\n",
    "y_test = np.zeros([len(test),1])\n",
    "p=0\n",
    "for s  in test :\n",
    "    x_test[p,:,:,:] = s[:,0:16].reshape(-1,16,1)\n",
    "    y_test[p, 0] = mode_rows(s[seq_len-20:seq_len,16])\n",
    "    p = p+1\n",
    "\n",
    "x_tes = (x_test/128).astype('float32')\n",
    "y_tes = np_utils.to_categorical(y_test)"
   ],
   "execution_count": 4,
   "outputs": [
    {
     "output_type": "stream",
     "name": "stdout",
     "text": [
      "(352401, 16)\n",
      "(352401, 1)\n"
     ]
    }
   ]
  },
  {
   "cell_type": "markdown",
   "source": [
    "# Model"
   ],
   "metadata": {
    "collapsed": false,
    "id": "Nl8Yx60IlUq4"
   }
  },
  {
   "cell_type": "code",
   "execution_count": 5,
   "outputs": [
    {
     "output_type": "stream",
     "name": "stdout",
     "text": [
      "Model: \"model\"\n",
      "_________________________________________________________________\n",
      " Layer (type)                Output Shape              Param #   \n",
      "=================================================================\n",
      " input_1 (InputLayer)        [(None, 200, 16, 1)]      0         \n",
      "                                                                 \n",
      " conv2d (Conv2D)             (None, 200, 16, 131)      21091     \n",
      "                                                                 \n",
      " conv2d_1 (Conv2D)           (None, 200, 16, 28)       586908    \n",
      "                                                                 \n",
      " flatten (Flatten)           (None, 89600)             0         \n",
      "                                                                 \n",
      " dense (Dense)               (None, 111)               9945711   \n",
      "                                                                 \n",
      " dense_1 (Dense)             (None, 8)                 896       \n",
      "                                                                 \n",
      "=================================================================\n",
      "Total params: 10,554,606\n",
      "Trainable params: 10,554,606\n",
      "Non-trainable params: 0\n",
      "_________________________________________________________________\n"
     ]
    },
    {
     "output_type": "stream",
     "name": "stderr",
     "text": [
      "/usr/local/lib/python3.7/dist-packages/keras/optimizer_v2/adam.py:105: UserWarning: The `lr` argument is deprecated, use `learning_rate` instead.\n",
      "  super(Adam, self).__init__(name, **kwargs)\n"
     ]
    },
    {
     "output_type": "stream",
     "name": "stdout",
     "text": [
      "Epoch 1/30\n",
      "20/20 [==============================] - 24s 437ms/step - loss: 1.2150 - accuracy: 0.6096 - val_loss: 0.6951 - val_accuracy: 0.7867\n",
      "Epoch 2/30\n",
      "20/20 [==============================] - 5s 246ms/step - loss: 0.3933 - accuracy: 0.8830 - val_loss: 0.3055 - val_accuracy: 0.9822\n",
      "Epoch 3/30\n",
      "20/20 [==============================] - 5s 248ms/step - loss: 0.1428 - accuracy: 0.9788 - val_loss: 0.1957 - val_accuracy: 0.9689\n",
      "Epoch 4/30\n",
      "20/20 [==============================] - 5s 248ms/step - loss: 0.0818 - accuracy: 0.9827 - val_loss: 0.1793 - val_accuracy: 0.9556\n",
      "Epoch 5/30\n",
      "20/20 [==============================] - 5s 253ms/step - loss: 0.0714 - accuracy: 0.9859 - val_loss: 0.1372 - val_accuracy: 0.9733\n",
      "Epoch 6/30\n",
      "20/20 [==============================] - 5s 251ms/step - loss: 0.0533 - accuracy: 0.9906 - val_loss: 0.1316 - val_accuracy: 0.9778\n",
      "Epoch 7/30\n",
      "20/20 [==============================] - 5s 250ms/step - loss: 0.0337 - accuracy: 0.9937 - val_loss: 0.1037 - val_accuracy: 0.9911\n",
      "Epoch 8/30\n",
      "20/20 [==============================] - 5s 250ms/step - loss: 0.0272 - accuracy: 0.9961 - val_loss: 0.0925 - val_accuracy: 0.9911\n",
      "Epoch 9/30\n",
      "20/20 [==============================] - 5s 255ms/step - loss: 0.0231 - accuracy: 0.9953 - val_loss: 0.0925 - val_accuracy: 0.9911\n",
      "Epoch 10/30\n",
      "20/20 [==============================] - 5s 253ms/step - loss: 0.0159 - accuracy: 0.9969 - val_loss: 0.0730 - val_accuracy: 0.9867\n",
      "Epoch 11/30\n",
      "20/20 [==============================] - 5s 258ms/step - loss: 0.0144 - accuracy: 0.9961 - val_loss: 0.0701 - val_accuracy: 0.9911\n",
      "Epoch 12/30\n",
      "20/20 [==============================] - 5s 256ms/step - loss: 0.0129 - accuracy: 0.9976 - val_loss: 0.0712 - val_accuracy: 0.9867\n",
      "Epoch 13/30\n",
      "20/20 [==============================] - 5s 260ms/step - loss: 0.0103 - accuracy: 0.9984 - val_loss: 0.0799 - val_accuracy: 0.9911\n",
      "Epoch 14/30\n",
      "20/20 [==============================] - 5s 257ms/step - loss: 0.0090 - accuracy: 0.9984 - val_loss: 0.0833 - val_accuracy: 0.9911\n",
      "Epoch 15/30\n",
      "20/20 [==============================] - 5s 262ms/step - loss: 0.0080 - accuracy: 0.9984 - val_loss: 0.0817 - val_accuracy: 0.9867\n",
      "Epoch 16/30\n",
      "20/20 [==============================] - 5s 259ms/step - loss: 0.0069 - accuracy: 0.9984 - val_loss: 0.0738 - val_accuracy: 0.9911\n",
      "Epoch 17/30\n",
      "20/20 [==============================] - 5s 260ms/step - loss: 0.0057 - accuracy: 0.9992 - val_loss: 0.0788 - val_accuracy: 0.9911\n",
      "Epoch 18/30\n",
      "20/20 [==============================] - 5s 261ms/step - loss: 0.0058 - accuracy: 0.9992 - val_loss: 0.0778 - val_accuracy: 0.9911\n",
      "Epoch 19/30\n",
      "20/20 [==============================] - 5s 262ms/step - loss: 0.0051 - accuracy: 0.9984 - val_loss: 0.0832 - val_accuracy: 0.9911\n",
      "Epoch 20/30\n",
      "20/20 [==============================] - 5s 261ms/step - loss: 0.0061 - accuracy: 0.9992 - val_loss: 0.0802 - val_accuracy: 0.9911\n",
      "Epoch 21/30\n",
      "20/20 [==============================] - 5s 264ms/step - loss: 0.0047 - accuracy: 0.9992 - val_loss: 0.0809 - val_accuracy: 0.9911\n",
      "Epoch 22/30\n",
      "20/20 [==============================] - 5s 263ms/step - loss: 0.0044 - accuracy: 0.9992 - val_loss: 0.0796 - val_accuracy: 0.9911\n",
      "Epoch 23/30\n",
      "20/20 [==============================] - 5s 259ms/step - loss: 0.0071 - accuracy: 0.9976 - val_loss: 0.0821 - val_accuracy: 0.9911\n",
      "Epoch 24/30\n",
      "20/20 [==============================] - 5s 262ms/step - loss: 0.0051 - accuracy: 0.9984 - val_loss: 0.0858 - val_accuracy: 0.9911\n",
      "Epoch 25/30\n",
      "20/20 [==============================] - 5s 262ms/step - loss: 0.0038 - accuracy: 0.9992 - val_loss: 0.0843 - val_accuracy: 0.9911\n",
      "Epoch 26/30\n",
      "20/20 [==============================] - 5s 258ms/step - loss: 0.0048 - accuracy: 0.9992 - val_loss: 0.0809 - val_accuracy: 0.9911\n",
      "Epoch 27/30\n",
      "20/20 [==============================] - 5s 258ms/step - loss: 0.0036 - accuracy: 0.9992 - val_loss: 0.0809 - val_accuracy: 0.9911\n",
      "Epoch 28/30\n",
      "20/20 [==============================] - 5s 259ms/step - loss: 0.0037 - accuracy: 0.9992 - val_loss: 0.0958 - val_accuracy: 0.9911\n",
      "Epoch 29/30\n",
      "20/20 [==============================] - 5s 259ms/step - loss: 0.0033 - accuracy: 0.9992 - val_loss: 0.0795 - val_accuracy: 0.9911\n",
      "Epoch 30/30\n",
      "20/20 [==============================] - 5s 259ms/step - loss: 0.0044 - accuracy: 0.9992 - val_loss: 0.0854 - val_accuracy: 0.9911\n",
      "dict_keys(['loss', 'accuracy', 'val_loss', 'val_accuracy'])\n"
     ]
    }
   ],
   "source": [
    "from keras.models import Sequential\n",
    "from keras.layers import Dense\n",
    "from keras.layers import LSTM\n",
    "from keras.layers import Dropout\n",
    "from tensorflow.keras.optimizers import SGD\n",
    "from tensorflow.keras.optimizers import Adam\n",
    "from keras.models import Model\n",
    "from keras import layers\n",
    "import keras\n",
    "from keras.initializers import RandomUniform\n",
    "import seaborn as sns\n",
    "\n",
    "\n",
    "myInput = layers.Input(shape=(seq_len,16,1))\n",
    "conv1 = layers.Conv2D(131, (20,8), activation='relu',kernel_initializer=RandomUniform(), padding='same', strides=1)(myInput)\n",
    "conv2 = layers.Conv2D(28, (20,8), activation='relu',kernel_initializer=RandomUniform(), padding='same', strides=1)(conv1)\n",
    "flat = layers.Flatten()(conv2)\n",
    "dense1 = layers.Dense(111, activation='relu',kernel_initializer=RandomUniform())(flat)\n",
    "out_layer = layers.Dense(8, activation='softmax',kernel_initializer=RandomUniform())(dense1)\n",
    "\n",
    "model = Model(myInput, out_layer)\n",
    "\n",
    "#Compilie\n",
    "model.compile( optimizer=Adam (lr=0.0001, beta_1=0.9, beta_2=0.999, epsilon=1e-08 ) , loss='categorical_crossentropy',metrics=['accuracy'])\n",
    "model.summary()\n",
    "#model fit\n",
    "history = model.fit(x_tra , y_tra, epochs=30 , batch_size=64 ,shuffle=True , validation_split=0.15)\n",
    "print((history.history.keys()))"
   ],
   "metadata": {
    "pycharm": {
     "name": "#%%\n"
    },
    "id": "fRo_vqx_lUq5",
    "outputId": "b66c2bb9-2711-497f-fd71-ae4533dff82c",
    "colab": {
     "base_uri": "https://localhost:8080/"
    }
   }
  },
  {
   "cell_type": "markdown",
   "source": [
    "# Evaluation"
   ],
   "metadata": {
    "collapsed": false,
    "id": "qOSCRgA-lUq6"
   }
  },
  {
   "cell_type": "code",
   "metadata": {
    "id": "6rdiu_WY8AO2",
    "outputId": "0ef99d13-bfa4-43bd-e9c0-eb748db19a70",
    "colab": {
     "base_uri": "https://localhost:8080/",
     "height": 983
    }
   },
   "source": [
    "# Evaluation\n",
    "test_loss, test_acc = model.evaluate(x_tes, y_tes)\n",
    "print(test_acc)\n",
    "test_labels_p = model.predict(x_tes)\n",
    "y_pred = np.argmax(test_labels_p, axis=1)\n",
    "y_true = y_test\n",
    "y_true1 = y_true.astype('int64')\n",
    "y_true2 = y_true1.reshape(p,)\n",
    "\n",
    "\n",
    "# Get confusion matrix\n",
    "y_out = y_pred.tolist()\n",
    "t = y_true2.tolist()\n",
    "print(confusion_matrix(t , y_out,labels=[0, 1, 2, 3, 4, 5, 6, 7]))\n",
    "\n",
    "\n",
    "\n",
    "# summarize history for accuracy\n",
    "sns.set(style='darkgrid')\n",
    "plt.figure(figsize=(8, 4), dpi=100)\n",
    "plt.plot(history.history['accuracy'])\n",
    "plt.plot(history.history['val_accuracy'])\n",
    "plt.title('model accuracy')\n",
    "plt.ylabel('accuracy')\n",
    "plt.xlabel('epoch')\n",
    "plt.legend(['Train', 'Validation'], loc='upper left')\n",
    "plt.savefig('/content/sample_data/accuracy.svg', format='svg', dpi=1200)\n",
    "plt.show()\n",
    "# summarize history for loss\n",
    "sns.set(style='darkgrid')\n",
    "plt.figure(figsize=(8, 4), dpi=100)\n",
    "plt.plot(history.history['loss'])\n",
    "plt.plot(history.history['val_loss'])\n",
    "plt.title('model loss')\n",
    "plt.ylabel('loss')\n",
    "plt.xlabel('epoch')\n",
    "plt.legend(['Train', 'Validation'], loc='upper left')\n",
    "plt.savefig('/content/sample_data/loss.svg', format='svg', dpi=1200)\n",
    "plt.show()"
   ],
   "execution_count": 6,
   "outputs": [
    {
     "output_type": "stream",
     "name": "stdout",
     "text": [
      "9/9 [==============================] - 1s 40ms/step - loss: 0.0375 - accuracy: 0.9886\n",
      "0.9886363744735718\n",
      "[[28  0  0  0  0  1  0  0]\n",
      " [ 0 23  0  0  0  0  0  0]\n",
      " [ 0  0 37  0  0  0  0  0]\n",
      " [ 0  0  0 30  0  0  0  0]\n",
      " [ 0  0  0  0 40  0  0  0]\n",
      " [ 0  0  0  0  0 34  0  1]\n",
      " [ 0  0  0  0  0  0 34  0]\n",
      " [ 0  0  1  0  0  0  0 35]]\n"
     ]
    },
    {
     "output_type": "display_data",
     "data": {
      "text/plain": [
       "<Figure size 800x400 with 1 Axes>"
      ],
      "image/png": "[encoded data removed]"
     },
     "metadata": {}
    },
    {
     "output_type": "display_data",
     "data": {
      "text/plain": [
       "<Figure size 800x400 with 1 Axes>"
      ],
      "image/png": "[encoded data removed]"
     },
     "metadata": {}
    }
   ]
  },
  {
   "cell_type": "markdown",
   "source": [
    "# END"
   ],
   "metadata": {
    "collapsed": false,
    "id": "JR1GIMtYlUq9"
   }
  }
 ]
}